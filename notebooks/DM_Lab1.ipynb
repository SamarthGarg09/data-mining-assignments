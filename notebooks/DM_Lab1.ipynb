{
  "cells": [
    {
      "cell_type": "markdown",
      "metadata": {},
      "source": [
        "## Data Mining Lab <br/>\n",
        "### Lab1<br/>\n",
        "#### Name: Samarth Garg\n",
        "#### Roll No: 2020IMT-085<br/>\n",
        "Date: 4/08/2023"
      ]
    },
    {
      "cell_type": "markdown",
      "metadata": {
        "id": "uyYAB9vGhoyn"
      },
      "source": [
        "### Creating the DataFrame from the given data"
      ]
    },
    {
      "cell_type": "code",
      "execution_count": 1,
      "metadata": {
        "colab": {
          "base_uri": "https://localhost:8080/",
          "height": 143
        },
        "id": "FE72u6EDuHGy",
        "outputId": "cd84db8f-98e9-47a0-f4d6-b430dbfc9f45"
      },
      "outputs": [
        {
          "data": {
            "text/html": [
              "<div>\n",
              "<style scoped>\n",
              "    .dataframe tbody tr th:only-of-type {\n",
              "        vertical-align: middle;\n",
              "    }\n",
              "\n",
              "    .dataframe tbody tr th {\n",
              "        vertical-align: top;\n",
              "    }\n",
              "\n",
              "    .dataframe thead th {\n",
              "        text-align: right;\n",
              "    }\n",
              "</style>\n",
              "<table border=\"1\" class=\"dataframe\">\n",
              "  <thead>\n",
              "    <tr style=\"text-align: right;\">\n",
              "      <th></th>\n",
              "      <th>High School</th>\n",
              "      <th>Bachelors</th>\n",
              "      <th>Masters</th>\n",
              "      <th>Ph.d.</th>\n",
              "      <th>Total</th>\n",
              "    </tr>\n",
              "  </thead>\n",
              "  <tbody>\n",
              "    <tr>\n",
              "      <th>Female</th>\n",
              "      <td>60</td>\n",
              "      <td>54</td>\n",
              "      <td>46</td>\n",
              "      <td>41</td>\n",
              "      <td>201</td>\n",
              "    </tr>\n",
              "    <tr>\n",
              "      <th>Male</th>\n",
              "      <td>40</td>\n",
              "      <td>44</td>\n",
              "      <td>53</td>\n",
              "      <td>57</td>\n",
              "      <td>194</td>\n",
              "    </tr>\n",
              "    <tr>\n",
              "      <th>Total</th>\n",
              "      <td>100</td>\n",
              "      <td>98</td>\n",
              "      <td>99</td>\n",
              "      <td>98</td>\n",
              "      <td>395</td>\n",
              "    </tr>\n",
              "  </tbody>\n",
              "</table>\n",
              "</div>"
            ],
            "text/plain": [
              "        High School  Bachelors  Masters  Ph.d.  Total\n",
              "Female           60         54       46     41    201\n",
              "Male             40         44       53     57    194\n",
              "Total           100         98       99     98    395"
            ]
          },
          "execution_count": 1,
          "metadata": {},
          "output_type": "execute_result"
        }
      ],
      "source": [
        "import pandas as pd\n",
        "from scipy.stats import chi2_contingency\n",
        "from scipy.stats import chi2\n",
        "\n",
        "given_data = [\n",
        "    [60, 54, 46, 41, 201],\n",
        "    [40, 44, 53, 57, 194],\n",
        "    [100, 98, 99, 98, 395]\n",
        "]\n",
        "\n",
        "columns = ['High School', 'Bachelors', 'Masters', 'Ph.d.', 'Total']\n",
        "index = ['Female', 'Male', 'Total']\n",
        "\n",
        "data = pd.DataFrame(given_data, index, columns)\n",
        "data.head()"
      ]
    },
    {
      "cell_type": "markdown",
      "metadata": {
        "id": "IRzxHGtKiaOW"
      },
      "source": [
        "## Chi-Square test (without SciPy Library)\n"
      ]
    },
    {
      "cell_type": "markdown",
      "metadata": {
        "id": "slZCb-LVnEvr"
      },
      "source": [
        "### Step1: Creating the Expected Values Table"
      ]
    },
    {
      "cell_type": "code",
      "execution_count": 14,
      "metadata": {
        "colab": {
          "base_uri": "https://localhost:8080/",
          "height": 143
        },
        "id": "vcEDDPOnia0M",
        "outputId": "e2ab0a81-9d42-4437-d407-d505caf5bc34"
      },
      "outputs": [
        {
          "data": {
            "text/html": [
              "<div>\n",
              "<style scoped>\n",
              "    .dataframe tbody tr th:only-of-type {\n",
              "        vertical-align: middle;\n",
              "    }\n",
              "\n",
              "    .dataframe tbody tr th {\n",
              "        vertical-align: top;\n",
              "    }\n",
              "\n",
              "    .dataframe thead th {\n",
              "        text-align: right;\n",
              "    }\n",
              "</style>\n",
              "<table border=\"1\" class=\"dataframe\">\n",
              "  <thead>\n",
              "    <tr style=\"text-align: right;\">\n",
              "      <th></th>\n",
              "      <th>High School</th>\n",
              "      <th>Bachelors</th>\n",
              "      <th>Masters</th>\n",
              "      <th>Ph.d.</th>\n",
              "      <th>Total</th>\n",
              "    </tr>\n",
              "  </thead>\n",
              "  <tbody>\n",
              "    <tr>\n",
              "      <th>Female</th>\n",
              "      <td>50.886076</td>\n",
              "      <td>49.868354</td>\n",
              "      <td>50.377215</td>\n",
              "      <td>49.868354</td>\n",
              "      <td>201</td>\n",
              "    </tr>\n",
              "    <tr>\n",
              "      <th>Male</th>\n",
              "      <td>49.113924</td>\n",
              "      <td>48.131646</td>\n",
              "      <td>48.622785</td>\n",
              "      <td>48.131646</td>\n",
              "      <td>194</td>\n",
              "    </tr>\n",
              "    <tr>\n",
              "      <th>Total</th>\n",
              "      <td>100.000000</td>\n",
              "      <td>98.000000</td>\n",
              "      <td>99.000000</td>\n",
              "      <td>98.000000</td>\n",
              "      <td>395</td>\n",
              "    </tr>\n",
              "  </tbody>\n",
              "</table>\n",
              "</div>"
            ],
            "text/plain": [
              "        High School  Bachelors    Masters      Ph.d.  Total\n",
              "Female    50.886076  49.868354  50.377215  49.868354    201\n",
              "Male      49.113924  48.131646  48.622785  48.131646    194\n",
              "Total    100.000000  98.000000  99.000000  98.000000    395"
            ]
          },
          "execution_count": 14,
          "metadata": {},
          "output_type": "execute_result"
        }
      ],
      "source": [
        "# creating expected values table as copy of the data table\n",
        "expected_values = data.copy()\n",
        "\n",
        "# find the expected values by traversing every row and column except total\n",
        "for column in columns[:-1]:\n",
        "  for row in index[:-1]:\n",
        "    expected_values.loc[row, column] = data.loc[row, 'Total'] * data.loc['Total', column] / data.loc['Total', 'Total']\n",
        "\n",
        "expected_values.head()"
      ]
    },
    {
      "cell_type": "markdown",
      "metadata": {
        "id": "Qn1um76crwUL"
      },
      "source": [
        "### Step2: Calculating chi-square value $(O - E)^2\\over E$ for every value\n"
      ]
    },
    {
      "cell_type": "code",
      "execution_count": 23,
      "metadata": {
        "colab": {
          "base_uri": "https://localhost:8080/",
          "height": 143
        },
        "id": "eLtoq2mNsM7b",
        "outputId": "12cc8f00-4be5-43d5-bdca-21c5f140b042"
      },
      "outputs": [
        {
          "data": {
            "text/plain": [
              "8.006066246262538"
            ]
          },
          "execution_count": 23,
          "metadata": {},
          "output_type": "execute_result"
        }
      ],
      "source": [
        "chi_square = ((data.iloc[:2, :4]-expected_values.iloc[:2, :4])**2/expected_values.iloc[:2, :4]).sum().sum()\n",
        "\n",
        "chi_square"
      ]
    },
    {
      "cell_type": "markdown",
      "metadata": {
        "id": "0tHQsVFvuTo3"
      },
      "source": [
        "### Step3: Computing Test Statistic X<sup>2</sup> and degree of freedom"
      ]
    },
    {
      "cell_type": "code",
      "execution_count": 25,
      "metadata": {
        "colab": {
          "base_uri": "https://localhost:8080/"
        },
        "id": "3UPBho3Nuq_2",
        "outputId": "8cf64a5e-0aca-46b5-c903-7db4d472938e"
      },
      "outputs": [
        {
          "name": "stdout",
          "output_type": "stream",
          "text": [
            "chi_square value =  8.006066246262538\n",
            "Degree Of Freedom =  3\n"
          ]
        }
      ],
      "source": [
        "print(\"chi_square value = \", chi_square)\n",
        "\n",
        "# independent rows in the table by removing total\n",
        "r = len(index) - 1\n",
        "c = len(columns) - 1\n",
        "\n",
        "# degree of freedom\n",
        "degree_of_freedom = (r - 1) * (c - 1)\n",
        "print(\"Degree Of Freedom = \", degree_of_freedom)"
      ]
    },
    {
      "cell_type": "markdown",
      "metadata": {
        "id": "lt_rlgvn2pNk"
      },
      "source": [
        "### Step4: Final Result\n",
        "\n",
        "Taking alpha as 0.05 and Degree Of Freedom as 3, the critical statistic comes out to be 7.815 which is less than our calculated test statistic. Therefore, we reject the null hypothesis i.e. we conclude that gender and education levels are related."
      ]
    },
    {
      "cell_type": "markdown",
      "metadata": {
        "id": "_lyTl0zQvwc0"
      },
      "source": [
        "## Chi Square Test(using SciPy Library)"
      ]
    },
    {
      "cell_type": "code",
      "execution_count": 77,
      "metadata": {
        "colab": {
          "base_uri": "https://localhost:8080/"
        },
        "id": "7vmc9883w8oe",
        "outputId": "c947519b-d534-4cc7-ea2a-ca0e91f4d4c7"
      },
      "outputs": [
        {
          "name": "stdout",
          "output_type": "stream",
          "text": [
            "Chi-square value: 8.006066246262538\n",
            "Degrees of freedom: 3\n",
            "Critical Statistic: 7.814727903251179\n",
            "Test Statistic is greater than Critical Statistic, therefore we reject the null hypothesis\n"
          ]
        }
      ],
      "source": [
        "from scipy.stats import chi2_contingency\n",
        "\n",
        "given_data = [\n",
        "    [60, 54, 46, 41],\n",
        "    [40, 44, 53, 57],\n",
        "]\n",
        "\n",
        "columns = ['High School', 'Bachelors', 'Masters', 'Ph.d.']\n",
        "index = ['Female', 'Male']\n",
        "\n",
        "data = pd.DataFrame(given_data, index, columns)\n",
        "data.head()\n",
        "\n",
        "x2, p, dof, expected = chi2_contingency(data)\n",
        "\n",
        "expected = pd.DataFrame(expected, index, columns)\n",
        "# Print the results\n",
        "print(f\"Chi-square value: {x2}\")\n",
        "print(f\"Degrees of freedom: {dof}\")\n",
        "\n",
        "# Taking alpha value as 0.05 and calculating critical statistic\n",
        "alpha = 0.05\n",
        "critical_statistic = chi2.ppf(1-alpha, dof)\n",
        "print(f\"Critical Statistic: {critical_statistic}\")\n",
        "\n",
        "\n",
        "if x2 > critical_statistic:\n",
        "  print(\"Test Statistic is greater than Critical Statistic, therefore we reject the null hypothesis\")\n",
        "else:\n",
        "  print(\"Test Statistic is less than Critical Statistic, therefore we accept the null hypothesis\")"
      ]
    },
    {
      "cell_type": "markdown",
      "metadata": {
        "id": "hl8H8k_n4GLO"
      },
      "source": [
        "We get the same result using the library"
      ]
    }
  ],
  "metadata": {
    "colab": {
      "provenance": []
    },
    "kernelspec": {
      "display_name": "Python 3",
      "name": "python3"
    },
    "language_info": {
      "codemirror_mode": {
        "name": "ipython",
        "version": 3
      },
      "file_extension": ".py",
      "mimetype": "text/x-python",
      "name": "python",
      "nbconvert_exporter": "python",
      "pygments_lexer": "ipython3",
      "version": "3.9.13"
    }
  },
  "nbformat": 4,
  "nbformat_minor": 0
}
