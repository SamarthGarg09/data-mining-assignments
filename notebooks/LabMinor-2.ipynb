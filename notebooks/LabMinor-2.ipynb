{
 "cells": [
  {
   "cell_type": "markdown",
   "metadata": {},
   "source": [
    "### **Name: Samarth Garg**\n",
    "### **Roll No: 2020IMT085**\n",
    "### **Course: Data Mining Lab (Minor Exam)**"
   ]
  },
  {
   "cell_type": "markdown",
   "metadata": {},
   "source": [
    "### Loading libraries and data"
   ]
  },
  {
   "cell_type": "code",
   "execution_count": 92,
   "metadata": {},
   "outputs": [],
   "source": [
    "import pandas as pd\n",
    "from sklearn.tree import DecisionTreeClassifier\n",
    "from sklearn.metrics import accuracy_score, f1_score, precision_score, recall_score\n",
    "from sklearn.preprocessing import StandardScaler\n",
    "from sklearn.model_selection import train_test_split\n",
    "from sklearn.tree import DecisionTreeClassifier\n",
    "from sklearn.metrics import accuracy_score, f1_score, precision_score, recall_score\n",
    "\n",
    "import matplotlib.pyplot as plt\n",
    "import seaborn as sns\n"
   ]
  },
  {
   "cell_type": "markdown",
   "metadata": {},
   "source": [
    "### Loading Data"
   ]
  },
  {
   "cell_type": "code",
   "execution_count": 93,
   "metadata": {},
   "outputs": [
    {
     "data": {
      "text/html": [
       "<div>\n",
       "<style scoped>\n",
       "    .dataframe tbody tr th:only-of-type {\n",
       "        vertical-align: middle;\n",
       "    }\n",
       "\n",
       "    .dataframe tbody tr th {\n",
       "        vertical-align: top;\n",
       "    }\n",
       "\n",
       "    .dataframe thead th {\n",
       "        text-align: right;\n",
       "    }\n",
       "</style>\n",
       "<table border=\"1\" class=\"dataframe\">\n",
       "  <thead>\n",
       "    <tr style=\"text-align: right;\">\n",
       "      <th></th>\n",
       "      <th>age</th>\n",
       "      <th>sex</th>\n",
       "      <th>cp</th>\n",
       "      <th>trestbps</th>\n",
       "      <th>chol</th>\n",
       "      <th>fbs</th>\n",
       "      <th>restecg</th>\n",
       "      <th>thalach</th>\n",
       "      <th>exang</th>\n",
       "      <th>oldpeak</th>\n",
       "      <th>slope</th>\n",
       "      <th>ca</th>\n",
       "      <th>thal</th>\n",
       "      <th>target</th>\n",
       "    </tr>\n",
       "  </thead>\n",
       "  <tbody>\n",
       "    <tr>\n",
       "      <th>0</th>\n",
       "      <td>52</td>\n",
       "      <td>1</td>\n",
       "      <td>0</td>\n",
       "      <td>125</td>\n",
       "      <td>212</td>\n",
       "      <td>0</td>\n",
       "      <td>1</td>\n",
       "      <td>168</td>\n",
       "      <td>0</td>\n",
       "      <td>1.0</td>\n",
       "      <td>2</td>\n",
       "      <td>2</td>\n",
       "      <td>3</td>\n",
       "      <td>0</td>\n",
       "    </tr>\n",
       "    <tr>\n",
       "      <th>1</th>\n",
       "      <td>53</td>\n",
       "      <td>1</td>\n",
       "      <td>0</td>\n",
       "      <td>140</td>\n",
       "      <td>203</td>\n",
       "      <td>1</td>\n",
       "      <td>0</td>\n",
       "      <td>155</td>\n",
       "      <td>1</td>\n",
       "      <td>3.1</td>\n",
       "      <td>0</td>\n",
       "      <td>0</td>\n",
       "      <td>3</td>\n",
       "      <td>0</td>\n",
       "    </tr>\n",
       "    <tr>\n",
       "      <th>2</th>\n",
       "      <td>70</td>\n",
       "      <td>1</td>\n",
       "      <td>0</td>\n",
       "      <td>145</td>\n",
       "      <td>174</td>\n",
       "      <td>0</td>\n",
       "      <td>1</td>\n",
       "      <td>125</td>\n",
       "      <td>1</td>\n",
       "      <td>2.6</td>\n",
       "      <td>0</td>\n",
       "      <td>0</td>\n",
       "      <td>3</td>\n",
       "      <td>0</td>\n",
       "    </tr>\n",
       "    <tr>\n",
       "      <th>3</th>\n",
       "      <td>61</td>\n",
       "      <td>1</td>\n",
       "      <td>0</td>\n",
       "      <td>148</td>\n",
       "      <td>203</td>\n",
       "      <td>0</td>\n",
       "      <td>1</td>\n",
       "      <td>161</td>\n",
       "      <td>0</td>\n",
       "      <td>0.0</td>\n",
       "      <td>2</td>\n",
       "      <td>1</td>\n",
       "      <td>3</td>\n",
       "      <td>0</td>\n",
       "    </tr>\n",
       "    <tr>\n",
       "      <th>4</th>\n",
       "      <td>62</td>\n",
       "      <td>0</td>\n",
       "      <td>0</td>\n",
       "      <td>138</td>\n",
       "      <td>294</td>\n",
       "      <td>1</td>\n",
       "      <td>1</td>\n",
       "      <td>106</td>\n",
       "      <td>0</td>\n",
       "      <td>1.9</td>\n",
       "      <td>1</td>\n",
       "      <td>3</td>\n",
       "      <td>2</td>\n",
       "      <td>0</td>\n",
       "    </tr>\n",
       "  </tbody>\n",
       "</table>\n",
       "</div>"
      ],
      "text/plain": [
       "   age  sex  cp  trestbps  chol  fbs  restecg  thalach  exang  oldpeak  slope  \\\n",
       "0   52    1   0       125   212    0        1      168      0      1.0      2   \n",
       "1   53    1   0       140   203    1        0      155      1      3.1      0   \n",
       "2   70    1   0       145   174    0        1      125      1      2.6      0   \n",
       "3   61    1   0       148   203    0        1      161      0      0.0      2   \n",
       "4   62    0   0       138   294    1        1      106      0      1.9      1   \n",
       "\n",
       "   ca  thal  target  \n",
       "0   2     3       0  \n",
       "1   0     3       0  \n",
       "2   0     3       0  \n",
       "3   1     3       0  \n",
       "4   3     2       0  "
      ]
     },
     "execution_count": 93,
     "metadata": {},
     "output_type": "execute_result"
    }
   ],
   "source": [
    "df = pd.read_csv(\"./data/archive/heart.csv\")\n",
    "df.head()"
   ]
  },
  {
   "cell_type": "markdown",
   "metadata": {},
   "source": [
    "* Since the dataset is balanced, we can use use random split instead of stratified split"
   ]
  },
  {
   "cell_type": "code",
   "execution_count": 94,
   "metadata": {},
   "outputs": [
    {
     "data": {
      "text/plain": [
       "1    526\n",
       "0    499\n",
       "Name: target, dtype: int64"
      ]
     },
     "execution_count": 94,
     "metadata": {},
     "output_type": "execute_result"
    }
   ],
   "source": [
    "df['target'].value_counts()"
   ]
  },
  {
   "cell_type": "code",
   "execution_count": 95,
   "metadata": {},
   "outputs": [
    {
     "data": {
      "text/html": [
       "<div>\n",
       "<style scoped>\n",
       "    .dataframe tbody tr th:only-of-type {\n",
       "        vertical-align: middle;\n",
       "    }\n",
       "\n",
       "    .dataframe tbody tr th {\n",
       "        vertical-align: top;\n",
       "    }\n",
       "\n",
       "    .dataframe thead th {\n",
       "        text-align: right;\n",
       "    }\n",
       "</style>\n",
       "<table border=\"1\" class=\"dataframe\">\n",
       "  <thead>\n",
       "    <tr style=\"text-align: right;\">\n",
       "      <th></th>\n",
       "      <th>age</th>\n",
       "      <th>trestbps</th>\n",
       "      <th>chol</th>\n",
       "      <th>thalach</th>\n",
       "      <th>target</th>\n",
       "      <th>sex</th>\n",
       "      <th>cp</th>\n",
       "      <th>fbs</th>\n",
       "      <th>restecg</th>\n",
       "      <th>exang</th>\n",
       "      <th>oldpeak</th>\n",
       "      <th>slope</th>\n",
       "      <th>ca</th>\n",
       "      <th>thal</th>\n",
       "    </tr>\n",
       "  </thead>\n",
       "  <tbody>\n",
       "    <tr>\n",
       "      <th>0</th>\n",
       "      <td>-0.268437</td>\n",
       "      <td>-0.377636</td>\n",
       "      <td>-0.659332</td>\n",
       "      <td>0.821321</td>\n",
       "      <td>0</td>\n",
       "      <td>1</td>\n",
       "      <td>0</td>\n",
       "      <td>0</td>\n",
       "      <td>1</td>\n",
       "      <td>0</td>\n",
       "      <td>1.0</td>\n",
       "      <td>2</td>\n",
       "      <td>2</td>\n",
       "      <td>3</td>\n",
       "    </tr>\n",
       "    <tr>\n",
       "      <th>1</th>\n",
       "      <td>-0.158157</td>\n",
       "      <td>0.479107</td>\n",
       "      <td>-0.833861</td>\n",
       "      <td>0.255968</td>\n",
       "      <td>0</td>\n",
       "      <td>1</td>\n",
       "      <td>0</td>\n",
       "      <td>1</td>\n",
       "      <td>0</td>\n",
       "      <td>1</td>\n",
       "      <td>3.1</td>\n",
       "      <td>0</td>\n",
       "      <td>0</td>\n",
       "      <td>3</td>\n",
       "    </tr>\n",
       "    <tr>\n",
       "      <th>2</th>\n",
       "      <td>1.716595</td>\n",
       "      <td>0.764688</td>\n",
       "      <td>-1.396233</td>\n",
       "      <td>-1.048692</td>\n",
       "      <td>0</td>\n",
       "      <td>1</td>\n",
       "      <td>0</td>\n",
       "      <td>0</td>\n",
       "      <td>1</td>\n",
       "      <td>1</td>\n",
       "      <td>2.6</td>\n",
       "      <td>0</td>\n",
       "      <td>0</td>\n",
       "      <td>3</td>\n",
       "    </tr>\n",
       "    <tr>\n",
       "      <th>3</th>\n",
       "      <td>0.724079</td>\n",
       "      <td>0.936037</td>\n",
       "      <td>-0.833861</td>\n",
       "      <td>0.516900</td>\n",
       "      <td>0</td>\n",
       "      <td>1</td>\n",
       "      <td>0</td>\n",
       "      <td>0</td>\n",
       "      <td>1</td>\n",
       "      <td>0</td>\n",
       "      <td>0.0</td>\n",
       "      <td>2</td>\n",
       "      <td>1</td>\n",
       "      <td>3</td>\n",
       "    </tr>\n",
       "    <tr>\n",
       "      <th>4</th>\n",
       "      <td>0.834359</td>\n",
       "      <td>0.364875</td>\n",
       "      <td>0.930822</td>\n",
       "      <td>-1.874977</td>\n",
       "      <td>0</td>\n",
       "      <td>0</td>\n",
       "      <td>0</td>\n",
       "      <td>1</td>\n",
       "      <td>1</td>\n",
       "      <td>0</td>\n",
       "      <td>1.9</td>\n",
       "      <td>1</td>\n",
       "      <td>3</td>\n",
       "      <td>2</td>\n",
       "    </tr>\n",
       "  </tbody>\n",
       "</table>\n",
       "</div>"
      ],
      "text/plain": [
       "        age  trestbps      chol   thalach  target  sex  cp  fbs  restecg  \\\n",
       "0 -0.268437 -0.377636 -0.659332  0.821321       0    1   0    0        1   \n",
       "1 -0.158157  0.479107 -0.833861  0.255968       0    1   0    1        0   \n",
       "2  1.716595  0.764688 -1.396233 -1.048692       0    1   0    0        1   \n",
       "3  0.724079  0.936037 -0.833861  0.516900       0    1   0    0        1   \n",
       "4  0.834359  0.364875  0.930822 -1.874977       0    0   0    1        1   \n",
       "\n",
       "   exang  oldpeak  slope  ca  thal  \n",
       "0      0      1.0      2   2     3  \n",
       "1      1      3.1      0   0     3  \n",
       "2      1      2.6      0   0     3  \n",
       "3      0      0.0      2   1     3  \n",
       "4      0      1.9      1   3     2  "
      ]
     },
     "execution_count": 95,
     "metadata": {},
     "output_type": "execute_result"
    }
   ],
   "source": [
    "scaler = StandardScaler()\n",
    "age = scaler.fit_transform(df[['age']])\n",
    "trestbps = scaler.fit_transform(df[['trestbps']])\n",
    "chol = scaler.fit_transform(df[['chol']])\n",
    "thalach = scaler.fit_transform(df[['thalach']])\n",
    "\n",
    "df_std = pd.DataFrame()\n",
    "df_std['age'] = age.reshape(-1)\n",
    "df_std['trestbps'] = trestbps.reshape(-1)\n",
    "df_std['chol'] = chol.reshape(-1)\n",
    "df_std['thalach'] = thalach.reshape(-1)\n",
    "df_std['target'] = df['target']\n",
    "df_std[['sex', 'cp',  'fbs',\t'restecg',\t'exang',\t'oldpeak',\t'slope',\t'ca',\t'thal']] = df[['sex', 'cp',  'fbs',\t'restecg',\t'exang',\t'oldpeak',\t'slope',\t'ca',\t'thal']]\n",
    "\n",
    "df_std.head()"
   ]
  },
  {
   "cell_type": "markdown",
   "metadata": {},
   "source": [
    "* Heatmap is poorly correlated"
   ]
  },
  {
   "cell_type": "code",
   "execution_count": 96,
   "metadata": {},
   "outputs": [
    {
     "data": {
      "image/png": "[encoded data removed]",
      "text/plain": [
       "<Figure size 640x480 with 2 Axes>"
      ]
     },
     "metadata": {},
     "output_type": "display_data"
    }
   ],
   "source": [
    "sns.heatmap(df_std.corr(), annot=False, cmap='coolwarm')\n",
    "plt.title('Correlation Matrix')\n",
    "plt.show()"
   ]
  },
  {
   "cell_type": "markdown",
   "metadata": {},
   "source": [
    "### Splitting the data randomly for training and testing"
   ]
  },
  {
   "cell_type": "code",
   "execution_count": 97,
   "metadata": {},
   "outputs": [
    {
     "name": "stdout",
     "output_type": "stream",
     "text": [
      "(820, 13)\n",
      "(205, 13)\n",
      "(820,)\n",
      "(205,)\n"
     ]
    }
   ],
   "source": [
    "X_train, X_test, y_train, y_test = train_test_split(df_std.drop('target', axis=1), df_std['target'], test_size=0.2, random_state=42)\n",
    "main_train_X, main_test_X, main_test_y, main_test_y = train_test_split(df.drop('target', axis=1), df['target'], test_size=0.2, random_state=42)\n",
    "\n",
    "print(X_train.shape)\n",
    "print(X_test.shape)\n",
    "print(y_train.shape)\n",
    "print(y_test.shape)"
   ]
  },
  {
   "cell_type": "markdown",
   "metadata": {},
   "source": [
    "### Applying the Decision Tree Classifier, fitting it, predicting it and printing the accuracy score"
   ]
  },
  {
   "cell_type": "code",
   "execution_count": 98,
   "metadata": {},
   "outputs": [
    {
     "name": "stdout",
     "output_type": "stream",
     "text": [
      "Train Accuracy: 1.0, Test Accuracy: 0.9853658536585366\n",
      "Train Precision: 1.0, Test Precision: 1.0\n",
      "Train Recall: 1.0, Test Recall: 0.970873786407767\n",
      "Train F1: 1.0, Test F1: 0.9852216748768473\n"
     ]
    }
   ],
   "source": [
    "'''\n",
    "Perform classification using the decision tree model. Print the F-score, accuracy,\n",
    "and confusion matrix.\n",
    "'''\n",
    "clf = DecisionTreeClassifier(random_state=42, max_depth=10)\n",
    "clf.fit(X_train, y_train)\n",
    "\n",
    "y_pred_train = clf.predict(X_train)\n",
    "y_pred_test = clf.predict(X_test)\n",
    "\n",
    "train_accuracy = accuracy_score(y_train, y_pred_train)\n",
    "test_accuracy = accuracy_score(y_test, y_pred_test)\n",
    "\n",
    "train_precision = precision_score(y_train, y_pred_train)\n",
    "test_precision = precision_score(y_test, y_pred_test)\n",
    "\n",
    "train_recall = recall_score(y_train, y_pred_train)\n",
    "test_recall = recall_score(y_test, y_pred_test)\n",
    "\n",
    "train_f1 = f1_score(y_train, y_pred_train)\n",
    "test_f1 = f1_score(y_test, y_pred_test)\n",
    "\n",
    "print(f\"Train Accuracy: {train_accuracy}, Test Accuracy: {test_accuracy}\")\n",
    "print(f\"Train Precision: {train_precision}, Test Precision: {test_precision}\")\n",
    "print(f'Train Recall: {train_recall}, Test Recall: {test_recall}')\n",
    "print(f'Train F1: {train_f1}, Test F1: {test_f1}')"
   ]
  },
  {
   "cell_type": "markdown",
   "metadata": {},
   "source": [
    "### Plot the Confusion Matrix"
   ]
  },
  {
   "cell_type": "code",
   "execution_count": 99,
   "metadata": {},
   "outputs": [
    {
     "data": {
      "text/plain": [
       "<sklearn.metrics._plot.confusion_matrix.ConfusionMatrixDisplay at 0x1a4cc16e3d0>"
      ]
     },
     "execution_count": 99,
     "metadata": {},
     "output_type": "execute_result"
    },
    {
     "data": {
      "image/png": "[encoded data removed]",
      "text/plain": [
       "<Figure size 640x480 with 2 Axes>"
      ]
     },
     "metadata": {},
     "output_type": "display_data"
    }
   ],
   "source": [
    "from sklearn.metrics import confusion_matrix, ConfusionMatrixDisplay\n",
    "\n",
    "cm = confusion_matrix(y_test, y_pred_test)\n",
    "dist = ConfusionMatrixDisplay(cm, display_labels=['No Heart Disease', 'Heart Disease'])\n",
    "dist.plot()"
   ]
  },
  {
   "cell_type": "code",
   "execution_count": 100,
   "metadata": {},
   "outputs": [
    {
     "name": "stdout",
     "output_type": "stream",
     "text": [
      "F1 Score for age: Train: 0.8656387665198239, Test: 0.8017621145374451\n",
      "F1 Score for trestbps: Train: 0.8656387665198239, Test: 0.8017621145374451\n",
      "F1 Score for chol: Train: 0.8656387665198239, Test: 0.8017621145374451\n",
      "F1 Score for thalach: Train: 0.8669623059866962, Test: 0.7929515418502202\n",
      "F1 Score for sex: Train: 0.8656387665198239, Test: 0.8017621145374451\n",
      "F1 Score for cp: Train: 0.8571428571428573, Test: 0.8207547169811321\n",
      "F1 Score for fbs: Train: 0.8656387665198239, Test: 0.8017621145374451\n",
      "F1 Score for restecg: Train: 0.8656387665198239, Test: 0.8017621145374451\n",
      "F1 Score for exang: Train: 0.8656387665198239, Test: 0.8017621145374451\n",
      "F1 Score for oldpeak: Train: 0.8645161290322582, Test: 0.8138528138528138\n",
      "F1 Score for slope: Train: 0.8656387665198239, Test: 0.8017621145374451\n",
      "F1 Score for ca: Train: 0.8366701791359326, Test: 0.810126582278481\n",
      "F1 Score for thal: Train: 0.8635346756152126, Test: 0.7853881278538813\n"
     ]
    }
   ],
   "source": [
    "'''\n",
    "Delete a feature attribute, one at a time, and print the F-score for both the training\n",
    "and testing data.\n",
    "'''\n",
    "\n",
    "for i in range(X_train.shape[1]):\n",
    "    X_train_drop = X_train.drop(X_train.columns[i], axis=1)\n",
    "    X_test_drop = X_test.drop(X_test.columns[i], axis=1)\n",
    "\n",
    "    clf = DecisionTreeClassifier(random_state=42, max_depth=3)\n",
    "    clf.fit(X_train_drop, y_train)\n",
    "\n",
    "    y_pred_train = clf.predict(X_train_drop)\n",
    "    y_pred_test = clf.predict(X_test_drop)\n",
    "\n",
    "    train_f1 = f1_score(y_train, y_pred_train)\n",
    "    test_f1 = f1_score(y_test, y_pred_test)\n",
    "\n",
    "    print(f'F1 Score for {X_train.columns[i]}: Train: {train_f1}, Test: {test_f1}')"
   ]
  },
  {
   "cell_type": "code",
   "execution_count": 101,
   "metadata": {},
   "outputs": [
    {
     "data": {
      "image/png": "[encoded data removed]",
      "text/plain": [
       "<Figure size 1000x500 with 2 Axes>"
      ]
     },
     "metadata": {},
     "output_type": "display_data"
    }
   ],
   "source": [
    "'''\n",
    "Plot the training and testing error for different maximum allowable depths of the\n",
    "tree.\n",
    "'''\n",
    "\n",
    "train_errors, max_depths = [], []\n",
    "for i in range(20):\n",
    "    clf = DecisionTreeClassifier(random_state=42, max_depth=i+1)\n",
    "    clf.fit(X_train, y_train)\n",
    "\n",
    "    error = 1 - clf.score(X_test, y_test)\n",
    "    train_errors.append(error)\n",
    "    max_depths.append(i+1)\n",
    "\n",
    "test_errors, max_depths = [], []\n",
    "for i in range(20):\n",
    "    clf = DecisionTreeClassifier(random_state=42, max_depth=i+1)\n",
    "    clf.fit(X_train, y_train)\n",
    "\n",
    "    error = 1 - clf.score(X_test, y_test)\n",
    "    test_errors.append(error)\n",
    "    max_depths.append(i+1)\n",
    "\n",
    "\n",
    "fig, (ax1, ax2) = plt.subplots(1, 2, figsize=(10, 5))\n",
    "ax1.plot(max_depths, train_errors)\n",
    "ax2.plot(max_depths, test_errors)\n",
    "ax1.set_xlabel('Max Depth')\n",
    "ax1.set_ylabel('Train Error')\n",
    "ax1.set_title('Max-Depth vs Train Error')\n",
    "ax2.set_xlabel('Max Depth')\n",
    "ax2.set_ylabel('Test Error')\n",
    "ax2.set_title('Max-Depth vs Test Error')\n",
    "plt.show()\n"
   ]
  },
  {
   "cell_type": "code",
   "execution_count": 102,
   "metadata": {},
   "outputs": [
    {
     "data": {
      "text/html": [
       "<div>\n",
       "<style scoped>\n",
       "    .dataframe tbody tr th:only-of-type {\n",
       "        vertical-align: middle;\n",
       "    }\n",
       "\n",
       "    .dataframe tbody tr th {\n",
       "        vertical-align: top;\n",
       "    }\n",
       "\n",
       "    .dataframe thead th {\n",
       "        text-align: right;\n",
       "    }\n",
       "</style>\n",
       "<table border=\"1\" class=\"dataframe\">\n",
       "  <thead>\n",
       "    <tr style=\"text-align: right;\">\n",
       "      <th></th>\n",
       "      <th>Attribute</th>\n",
       "      <th>Max</th>\n",
       "      <th>Min</th>\n",
       "    </tr>\n",
       "  </thead>\n",
       "  <tbody>\n",
       "    <tr>\n",
       "      <th>0</th>\n",
       "      <td>age</td>\n",
       "      <td>77.0</td>\n",
       "      <td>29.0</td>\n",
       "    </tr>\n",
       "    <tr>\n",
       "      <th>1</th>\n",
       "      <td>trestbps</td>\n",
       "      <td>200.0</td>\n",
       "      <td>94.0</td>\n",
       "    </tr>\n",
       "    <tr>\n",
       "      <th>2</th>\n",
       "      <td>chol</td>\n",
       "      <td>564.0</td>\n",
       "      <td>126.0</td>\n",
       "    </tr>\n",
       "    <tr>\n",
       "      <th>3</th>\n",
       "      <td>thalach</td>\n",
       "      <td>202.0</td>\n",
       "      <td>71.0</td>\n",
       "    </tr>\n",
       "    <tr>\n",
       "      <th>4</th>\n",
       "      <td>sex</td>\n",
       "      <td>1.0</td>\n",
       "      <td>0.0</td>\n",
       "    </tr>\n",
       "    <tr>\n",
       "      <th>5</th>\n",
       "      <td>cp</td>\n",
       "      <td>3.0</td>\n",
       "      <td>0.0</td>\n",
       "    </tr>\n",
       "    <tr>\n",
       "      <th>6</th>\n",
       "      <td>fbs</td>\n",
       "      <td>1.0</td>\n",
       "      <td>0.0</td>\n",
       "    </tr>\n",
       "    <tr>\n",
       "      <th>7</th>\n",
       "      <td>restecg</td>\n",
       "      <td>2.0</td>\n",
       "      <td>0.0</td>\n",
       "    </tr>\n",
       "    <tr>\n",
       "      <th>8</th>\n",
       "      <td>exang</td>\n",
       "      <td>1.0</td>\n",
       "      <td>0.0</td>\n",
       "    </tr>\n",
       "    <tr>\n",
       "      <th>9</th>\n",
       "      <td>oldpeak</td>\n",
       "      <td>6.2</td>\n",
       "      <td>0.0</td>\n",
       "    </tr>\n",
       "    <tr>\n",
       "      <th>10</th>\n",
       "      <td>slope</td>\n",
       "      <td>2.0</td>\n",
       "      <td>0.0</td>\n",
       "    </tr>\n",
       "    <tr>\n",
       "      <th>11</th>\n",
       "      <td>ca</td>\n",
       "      <td>4.0</td>\n",
       "      <td>0.0</td>\n",
       "    </tr>\n",
       "    <tr>\n",
       "      <th>12</th>\n",
       "      <td>thal</td>\n",
       "      <td>3.0</td>\n",
       "      <td>0.0</td>\n",
       "    </tr>\n",
       "  </tbody>\n",
       "</table>\n",
       "</div>"
      ],
      "text/plain": [
       "   Attribute    Max    Min\n",
       "0        age   77.0   29.0\n",
       "1   trestbps  200.0   94.0\n",
       "2       chol  564.0  126.0\n",
       "3    thalach  202.0   71.0\n",
       "4        sex    1.0    0.0\n",
       "5         cp    3.0    0.0\n",
       "6        fbs    1.0    0.0\n",
       "7    restecg    2.0    0.0\n",
       "8      exang    1.0    0.0\n",
       "9    oldpeak    6.2    0.0\n",
       "10     slope    2.0    0.0\n",
       "11        ca    4.0    0.0\n",
       "12      thal    3.0    0.0"
      ]
     },
     "execution_count": 102,
     "metadata": {},
     "output_type": "execute_result"
    }
   ],
   "source": [
    "'''For every attribute, print the data with the largest or smallest attribute value.'''\n",
    "\n",
    "table = pd.DataFrame()\n",
    "table['Attribute'] = X_train.columns\n",
    "table['Max'] = [main_train_X[X_train.columns[i]].max() for i in range(main_train_X.shape[1])]\n",
    "table['Min'] = [main_train_X[X_train.columns[i]].min() for i in range(main_train_X.shape[1])]\n",
    "table"
   ]
  },
  {
   "cell_type": "markdown",
   "metadata": {},
   "source": [
    "* Plotting the confusion matrix after deleting 5 % of the correctly classified data and we can observe that the accuracy has decreased"
   ]
  },
  {
   "cell_type": "code",
   "execution_count": 103,
   "metadata": {},
   "outputs": [
    {
     "name": "stdout",
     "output_type": "stream",
     "text": [
      "Train Accuracy: 1.0, Test Accuracy: 0.975609756097561\n",
      "Train Precision: 1.0, Test Precision: 1.0\n",
      "Train Recall: 1.0, Test Recall: 0.9514563106796117\n",
      "Train F1: 1.0, Test F1: 0.9751243781094527\n"
     ]
    }
   ],
   "source": [
    "'''\n",
    "Delete 5% of the data where the classifier trained from (i) is the ‘most confident’\n",
    "for every label. Repeat training with the reduced data. Print the F-score, accuracy,\n",
    "and confusion matrix.\n",
    "'''\n",
    "\n",
    "X_train_correct_indices = X_train[y_train == y_pred_train].index\n",
    "\n",
    "del_ratio = 0.05\n",
    "del_indices = X_train_correct_indices[:int(len(X_train_correct_indices) * del_ratio)]\n",
    "\n",
    "X_train = X_train.drop(del_indices)\n",
    "y_train = y_train.drop(del_indices)\n",
    "\n",
    "clf = DecisionTreeClassifier(random_state=42, max_depth=10)\n",
    "clf.fit(X_train, y_train)\n",
    "\n",
    "y_pred_train = clf.predict(X_train)\n",
    "y_pred_test = clf.predict(X_test)\n",
    "\n",
    "train_accuracy = accuracy_score(y_train, y_pred_train)\n",
    "test_accuracy = accuracy_score(y_test, y_pred_test)\n",
    "\n",
    "train_precision = precision_score(y_train, y_pred_train)\n",
    "test_precision = precision_score(y_test, y_pred_test)\n",
    "\n",
    "train_recall = recall_score(y_train, y_pred_train)\n",
    "test_recall = recall_score(y_test, y_pred_test)\n",
    "\n",
    "train_f1 = f1_score(y_train, y_pred_train)\n",
    "test_f1 = f1_score(y_test, y_pred_test)\n",
    "\n",
    "print(f\"Train Accuracy: {train_accuracy}, Test Accuracy: {test_accuracy}\")\n",
    "print(f\"Train Precision: {train_precision}, Test Precision: {test_precision}\")\n",
    "print(f'Train Recall: {train_recall}, Test Recall: {test_recall}')\n",
    "print(f'Train F1: {train_f1}, Test F1: {test_f1}')"
   ]
  },
  {
   "cell_type": "code",
   "execution_count": 104,
   "metadata": {},
   "outputs": [
    {
     "data": {
      "text/plain": [
       "<sklearn.metrics._plot.confusion_matrix.ConfusionMatrixDisplay at 0x1a4ccbcbb80>"
      ]
     },
     "execution_count": 104,
     "metadata": {},
     "output_type": "execute_result"
    },
    {
     "data": {
      "image/png": "[encoded data removed]",
      "text/plain": [
       "<Figure size 640x480 with 2 Axes>"
      ]
     },
     "metadata": {},
     "output_type": "display_data"
    }
   ],
   "source": [
    "from sklearn.metrics import confusion_matrix, ConfusionMatrixDisplay\n",
    "\n",
    "cm = confusion_matrix(y_test, y_pred_test)\n",
    "dist = ConfusionMatrixDisplay(cm, display_labels=['No Heart Disease', 'Heart Disease'])\n",
    "dist.plot()"
   ]
  }
 ],
 "metadata": {
  "kernelspec": {
   "display_name": "base",
   "language": "python",
   "name": "python3"
  },
  "language_info": {
   "codemirror_mode": {
    "name": "ipython",
    "version": 3
   },
   "file_extension": ".py",
   "mimetype": "text/x-python",
   "name": "python",
   "nbconvert_exporter": "python",
   "pygments_lexer": "ipython3",
   "version": "3.9.13"
  },
  "orig_nbformat": 4
 },
 "nbformat": 4,
 "nbformat_minor": 2
}
